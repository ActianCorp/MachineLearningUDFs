{
 "cells": [
  {
   "cell_type": "code",
   "execution_count": 1,
   "metadata": {},
   "outputs": [],
   "source": [
    "# -*- coding: utf-8 -*-\n",
    "\"\"\"\n",
    "Created on Fri July 22 12:17:26 2020\n",
    "\n",
    "@author: vsharma\n",
    "\"\"\"\n",
    "import pyodbc as pdb\n",
    "import pandas as pd\n",
    "import numpy as np\n",
    "\n",
    "#conn = pdb.connect(\"DRIVER={Ingres};SERVER=@10.100.13.111,tcp_ip,27712;DATABASE=udfvid;uid=actian;pwd=plug$play\")\n",
    "#conn = pdb.connect(\"dsn=iris1;uid=actian;pwd=plug$play\" )\n",
    "conn = pdb.connect(\"dsn=Vector6;uid=actian;pwd=actian\" )\n",
    "#conn.autocommit= True\n",
    "conn.setdecoding(pdb.SQL_CHAR, encoding='utf-8')\n",
    "conn.setdecoding(pdb.SQL_WCHAR, encoding='utf-8')\n",
    "conn.setencoding(encoding='utf-8')\n",
    "conn.setdecoding(pdb.SQL_WMETADATA, encoding='utf-8')\n",
    "\n",
    "#conn.autocommit= True\n",
    "cursor = conn.cursor()\n",
    "\n"
   ]
  },
  {
   "cell_type": "code",
   "execution_count": 2,
   "metadata": {},
   "outputs": [],
   "source": [
    "iris1tbl ='''create table iris( \n",
    "        id integer,\n",
    "        sepallengthcm float,\n",
    "        sepalwidthcm float,\n",
    "        petallengthcm float,\n",
    "        petalwidthcm float,\n",
    "        species varchar(20))\n",
    "        with NOPARTITION;'''\n",
    "conn.execute (iris1tbl)\n",
    "conn.commit()\n"
   ]
  },
  {
   "cell_type": "code",
   "execution_count": 3,
   "metadata": {},
   "outputs": [],
   "source": [
    "#Bluk load data using copy vwload\n",
    "query =\"COPY iris() VWLOAD FROM '/home/actian/iris/datasets_19_420_Iris.csv' with fdelim=',', insertmode ='Bulk' ,header\"\n",
    "cursor.execute(query)\n",
    "cursor.commit()"
   ]
  },
  {
   "cell_type": "code",
   "execution_count": 4,
   "metadata": {},
   "outputs": [
    {
     "name": "stdout",
     "output_type": "stream",
     "text": [
      "(3, 2)\n",
      "<class 'pandas.core.frame.DataFrame'>\n",
      "RangeIndex: 3 entries, 0 to 2\n",
      "Data columns (total 2 columns):\n",
      "c\u0000o\u0000u      3 non-null int64\n",
      "s\u0000p\u0000e\u0000c    3 non-null object\n",
      "dtypes: int64(1), object(1)\n",
      "memory usage: 176.0+ bytes\n"
     ]
    },
    {
     "data": {
      "text/html": [
       "<div>\n",
       "<style scoped>\n",
       "    .dataframe tbody tr th:only-of-type {\n",
       "        vertical-align: middle;\n",
       "    }\n",
       "\n",
       "    .dataframe tbody tr th {\n",
       "        vertical-align: top;\n",
       "    }\n",
       "\n",
       "    .dataframe thead th {\n",
       "        text-align: right;\n",
       "    }\n",
       "</style>\n",
       "<table border=\"1\" class=\"dataframe\">\n",
       "  <thead>\n",
       "    <tr style=\"text-align: right;\">\n",
       "      <th></th>\n",
       "      <th>c\u0000o\u0000u</th>\n",
       "      <th>s\u0000p\u0000e\u0000c</th>\n",
       "    </tr>\n",
       "  </thead>\n",
       "  <tbody>\n",
       "    <tr>\n",
       "      <td>0</td>\n",
       "      <td>50</td>\n",
       "      <td>Iris-setosa</td>\n",
       "    </tr>\n",
       "    <tr>\n",
       "      <td>1</td>\n",
       "      <td>50</td>\n",
       "      <td>Iris-versicolor</td>\n",
       "    </tr>\n",
       "    <tr>\n",
       "      <td>2</td>\n",
       "      <td>50</td>\n",
       "      <td>Iris-virginica</td>\n",
       "    </tr>\n",
       "  </tbody>\n",
       "</table>\n",
       "</div>"
      ],
      "text/plain": [
       "   c\u0000o\u0000u          s\u0000p\u0000e\u0000c\n",
       "0     50      Iris-setosa\n",
       "1     50  Iris-versicolor\n",
       "2     50   Iris-virginica"
      ]
     },
     "execution_count": 4,
     "metadata": {},
     "output_type": "execute_result"
    }
   ],
   "source": [
    "sql= \"select count(*) as count, species from iris group by species\"\n",
    "\n",
    "iris=pd.read_sql(sql, conn)\n",
    "print(iris.shape)\n",
    "iris.info(verbose=True)\n",
    "iris.describe()\n",
    "iris.head()"
   ]
  },
  {
   "cell_type": "code",
   "execution_count": 5,
   "metadata": {},
   "outputs": [
    {
     "name": "stdout",
     "output_type": "stream",
     "text": [
      "(150, 5)\n",
      "<class 'pandas.core.frame.DataFrame'>\n",
      "RangeIndex: 150 entries, 0 to 149\n",
      "Data columns (total 5 columns):\n",
      "s\u0000e\u0000p\u0000a\u0000l\u0000l\u0000e    150 non-null float64\n",
      "s\u0000e\u0000p\u0000a\u0000l\u0000w\u0000     150 non-null float64\n",
      "p\u0000e\u0000t\u0000a\u0000l\u0000l\u0000e    150 non-null float64\n",
      "p\u0000e\u0000t\u0000a\u0000l\u0000w\u0000     150 non-null float64\n",
      "s\u0000p\u0000e\u0000c          150 non-null object\n",
      "dtypes: float64(4), object(1)\n",
      "memory usage: 6.0+ KB\n"
     ]
    }
   ],
   "source": [
    "sql_case=\"select sepallengthcm, sepalwidthcm,petallengthcm, petalwidthcm , \\\n",
    "    CASE \\\n",
    "    WHEN species='Iris-setosa' THEN '1' \\\n",
    "    WHEN species='Iris-versicolor' THEN '2' \\\n",
    "    ELSE '3' \\\n",
    "    END as species \\\n",
    "    FROM iris\" \n",
    "iris_case=pd.read_sql(sql_case, conn)\n",
    "print(iris_case.shape)\n",
    "iris_case.info(verbose=True)"
   ]
  },
  {
   "cell_type": "code",
   "execution_count": 6,
   "metadata": {},
   "outputs": [
    {
     "name": "stdout",
     "output_type": "stream",
     "text": [
      "   s\u0000e\u0000p\u0000a\u0000l\u0000l\u0000e  s\u0000e\u0000p\u0000a\u0000l\u0000w\u0000  p\u0000e\u0000t\u0000a\u0000l\u0000l\u0000e  p\u0000e\u0000t\u0000a\u0000l\u0000w\u0000\n",
      "0            5.1           3.5            1.4           0.2\n",
      "1            4.9           3.0            1.4           0.2\n",
      "2            4.7           3.2            1.3           0.2\n",
      "3            4.6           3.1            1.5           0.2\n",
      "4            5.0           3.6            1.4           0.2\n",
      "5            5.4           3.9            1.7           0.4\n",
      "6            4.6           3.4            1.4           0.3\n",
      "7            5.0           3.4            1.5           0.2\n",
      "8            4.4           2.9            1.4           0.2\n",
      "9            4.9           3.1            1.5           0.1\n",
      "  s\u0000p\u0000e\u0000c\n",
      "0       1\n",
      "1       1\n",
      "2       1\n",
      "3       1\n",
      "4       1\n",
      "5       1\n",
      "6       1\n",
      "7       1\n",
      "8       1\n",
      "9       1\n"
     ]
    },
    {
     "name": "stderr",
     "output_type": "stream",
     "text": [
      "d:\\Users\\vsharma\\AppData\\Local\\Continuum\\anaconda3\\lib\\site-packages\\sklearn\\linear_model\\logistic.py:432: FutureWarning: Default solver will be changed to 'lbfgs' in 0.22. Specify a solver to silence this warning.\n",
      "  FutureWarning)\n",
      "d:\\Users\\vsharma\\AppData\\Local\\Continuum\\anaconda3\\lib\\site-packages\\sklearn\\utils\\validation.py:724: DataConversionWarning: A column-vector y was passed when a 1d array was expected. Please change the shape of y to (n_samples, ), for example using ravel().\n",
      "  y = column_or_1d(y, warn=True)\n",
      "d:\\Users\\vsharma\\AppData\\Local\\Continuum\\anaconda3\\lib\\site-packages\\sklearn\\linear_model\\logistic.py:469: FutureWarning: Default multi_class will be changed to 'auto' in 0.22. Specify the multi_class option to silence this warning.\n",
      "  \"this warning.\", FutureWarning)\n"
     ]
    },
    {
     "data": {
      "text/plain": [
       "LogisticRegression(C=1.0, class_weight=None, dual=False, fit_intercept=True,\n",
       "                   intercept_scaling=1, l1_ratio=None, max_iter=100,\n",
       "                   multi_class='warn', n_jobs=None, penalty='l2',\n",
       "                   random_state=0, solver='warn', tol=0.0001, verbose=0,\n",
       "                   warm_start=False)"
      ]
     },
     "execution_count": 6,
     "metadata": {},
     "output_type": "execute_result"
    }
   ],
   "source": [
    "#Train and test the model\n",
    "from sklearn import datasets\n",
    "from sklearn.linear_model import LogisticRegression\n",
    "from sklearn.model_selection import cross_val_score\n",
    "\n",
    "\n",
    "# Load iris\n",
    "x_data = iris_case.iloc[:, 0:4] \n",
    "y_data = iris_case.iloc[:, 4:5] \n",
    "#y_data = iris_case[5:6]\n",
    "\n",
    "print(x_data.head(10))\n",
    "print(y_data.head(10))\n",
    "from sklearn.model_selection import train_test_split\n",
    "x_train, x_test, y_train, y_test = train_test_split(x_data, y_data ,test_size = 0.3, shuffle=True)\n",
    "\n",
    "\n",
    "clf = LogisticRegression(random_state=0)\n",
    "clf.fit(x_train, y_train)\n"
   ]
  },
  {
   "cell_type": "code",
   "execution_count": 7,
   "metadata": {},
   "outputs": [
    {
     "name": "stdout",
     "output_type": "stream",
     "text": [
      "['2' '2' '2' '1' '2' '2' '3' '1' '2' '2' '2' '2' '3' '3' '2' '3' '1' '1'\n",
      " '3' '3' '1' '3' '1' '1' '3' '3' '3' '1' '3' '1' '1' '3' '2' '1' '3' '2'\n",
      " '1' '3' '3' '2' '3' '2' '1' '2' '3']\n",
      "0.8888888888888888\n",
      "LogisticRegression(C=1.0, class_weight=None, dual=False, fit_intercept=True,\n",
      "                   intercept_scaling=1, l1_ratio=None, max_iter=100,\n",
      "                   multi_class='warn', n_jobs=None, penalty='l2',\n",
      "                   random_state=0, solver='warn', tol=0.0001, verbose=0,\n",
      "                   warm_start=False)\n",
      "[[ 0.3895888   1.34595886 -2.06997638 -0.94121797]\n",
      " [ 0.47592821 -1.57379327  0.42658526 -1.13567644]\n",
      " [-1.54892257 -1.15909567  2.15560176  2.18695775]] [ 0.25519024  0.68637376 -0.91705659]\n"
     ]
    }
   ],
   "source": [
    "#Check the accuracy of the model\n",
    "\n",
    "ypred_test = clf.predict(x_test)\n",
    "print (ypred_test)\n",
    "from sklearn.metrics import accuracy_score\n",
    "print(accuracy_score(y_test, ypred_test))\n",
    "\n",
    "print(clf)\n",
    "print(clf.coef_, clf.intercept_)\n",
    "\n"
   ]
  },
  {
   "cell_type": "code",
   "execution_count": 8,
   "metadata": {},
   "outputs": [
    {
     "name": "stdout",
     "output_type": "stream",
     "text": [
      "def score(input):\n",
      "    return [((((0.25519023562092724) + ((input[0]) * (0.3895887983224221))) + ((input[1]) * (1.345958860267565))) + ((input[2]) * (-2.0699763848885673))) + ((input[3]) * (-0.9412179668992701)), ((((0.6863737639240429) + ((input[0]) * (0.47592820981827283))) + ((input[1]) * (-1.573793271545845))) + ((input[2]) * (0.42658525769464284))) + ((input[3]) * (-1.1356764428153145)), ((((-0.9170565873708041) + ((input[0]) * (-1.5489225723875584))) + ((input[1]) * (-1.1590956697735213))) + ((input[2]) * (2.155601761372578))) + ((input[3]) * (2.1869577475772353))]\n",
      "\n"
     ]
    }
   ],
   "source": [
    "# m2cgen will help in transpile the code to python, which can be converted to UDF\n",
    "import m2cgen as m2c\n",
    "code = m2c.export_to_python(clf)\n",
    "print(code)"
   ]
  },
  {
   "cell_type": "code",
   "execution_count": 9,
   "metadata": {},
   "outputs": [],
   "source": [
    "# formatting properly for python UDF and apply the sigmoid appropriately\n",
    "udf='''CREATE OR REPLACE FUNCTION iris_lr_Python(lst VARCHAR(100) not null) \n",
    "              return (int not null) \n",
    "              AS LANGUAGE PYTHON\n",
    "              SOURCE='\n",
    "import math\n",
    "def score (lst):\n",
    "    input = [float(i) for i in lst.split(\",\")]\n",
    "    var0= [((((0.3071141523497695) + ((input[0]) * (0.45735289079282243))) + ((input[1]) * (1.563999442624823))) + ((input[2]) * (-2.4337731386698156))) + ((input[3]) * (-1.1093664333108562)), ((((1.3549694262711482) + ((input[0]) * (0.383714697433802))) + ((input[1]) * (-1.6331343435222105))) + ((input[2]) * (0.5223067330148571))) + ((input[3]) * (-1.2217422222774255)), ((((-1.5634849658960563) + ((input[0]) * (-1.9559633315117064))) + ((input[1]) * (-1.6394612788542173))) + ((input[2]) * (2.83919578446464))) + ((input[3]) * (2.777913439552842))]\n",
    "    print(var0)\n",
    "    index=0\n",
    "    arr1=[]\n",
    "    for i in range(0,len(var0)): \n",
    "     arr1.append( 1 / (1 + math.exp(-var0[i])))\n",
    "    print(arr1)\n",
    "    max_val=arr1[0]\n",
    "    for i in range(0,len(arr1)):\n",
    "           if arr1[i] > max_val:\n",
    "                index=i\n",
    "                max_val=arr1[i]\n",
    "    return index+1\n",
    "return score (lst)'\n",
    "'''\n",
    "\n",
    "\n",
    "\n",
    "cursor.execute(udf)\n",
    "conn.commit()\n",
    "\n",
    "\n"
   ]
  },
  {
   "cell_type": "code",
   "execution_count": 10,
   "metadata": {},
   "outputs": [
    {
     "data": {
      "text/html": [
       "<div>\n",
       "<style scoped>\n",
       "    .dataframe tbody tr th:only-of-type {\n",
       "        vertical-align: middle;\n",
       "    }\n",
       "\n",
       "    .dataframe tbody tr th {\n",
       "        vertical-align: top;\n",
       "    }\n",
       "\n",
       "    .dataframe thead th {\n",
       "        text-align: right;\n",
       "    }\n",
       "</style>\n",
       "<table border=\"1\" class=\"dataframe\">\n",
       "  <thead>\n",
       "    <tr style=\"text-align: right;\">\n",
       "      <th></th>\n",
       "      <th>s\u0000p\u0000e\u0000c</th>\n",
       "      <th>c\u0000l\u0000a\u0000s\u0000</th>\n",
       "    </tr>\n",
       "  </thead>\n",
       "  <tbody>\n",
       "    <tr>\n",
       "      <td>0</td>\n",
       "      <td>1</td>\n",
       "      <td>1</td>\n",
       "    </tr>\n",
       "    <tr>\n",
       "      <td>1</td>\n",
       "      <td>1</td>\n",
       "      <td>1</td>\n",
       "    </tr>\n",
       "    <tr>\n",
       "      <td>2</td>\n",
       "      <td>1</td>\n",
       "      <td>1</td>\n",
       "    </tr>\n",
       "    <tr>\n",
       "      <td>3</td>\n",
       "      <td>1</td>\n",
       "      <td>1</td>\n",
       "    </tr>\n",
       "    <tr>\n",
       "      <td>4</td>\n",
       "      <td>1</td>\n",
       "      <td>1</td>\n",
       "    </tr>\n",
       "  </tbody>\n",
       "</table>\n",
       "</div>"
      ],
      "text/plain": [
       "  s\u0000p\u0000e\u0000c  c\u0000l\u0000a\u0000s\u0000\n",
       "0       1         1\n",
       "1       1         1\n",
       "2       1         1\n",
       "3       1         1\n",
       "4       1         1"
      ]
     },
     "execution_count": 10,
     "metadata": {},
     "output_type": "execute_result"
    }
   ],
   "source": [
    "#Check the test prediction with UDF\n",
    "predict='''select CASE \n",
    "    WHEN species='Iris-setosa' THEN '1' \n",
    "    WHEN species='Iris-versicolor' THEN '2' \n",
    "    ELSE '3' \n",
    "    END as species,iris_lr_Python(sepallengthcm  || ',' || sepalwidthcm  || ',' || petallengthcm  || ',' || petalwidthcm ) as classify  from iris'''\n",
    "predict1=pd.read_sql(predict, conn)\n",
    "predict1.head()"
   ]
  },
  {
   "cell_type": "code",
   "execution_count": 11,
   "metadata": {},
   "outputs": [
    {
     "name": "stdout",
     "output_type": "stream",
     "text": [
      "function score(input) {\n",
      "    return [((((0.25519023562092724) + ((input[0]) * (0.3895887983224221))) + ((input[1]) * (1.345958860267565))) + ((input[2]) * (-2.0699763848885673))) + ((input[3]) * (-0.9412179668992701)), ((((0.6863737639240429) + ((input[0]) * (0.47592820981827283))) + ((input[1]) * (-1.573793271545845))) + ((input[2]) * (0.42658525769464284))) + ((input[3]) * (-1.1356764428153145)), ((((-0.9170565873708041) + ((input[0]) * (-1.5489225723875584))) + ((input[1]) * (-1.1590956697735213))) + ((input[2]) * (2.155601761372578))) + ((input[3]) * (2.1869577475772353))];\n",
      "}\n",
      "\n"
     ]
    }
   ],
   "source": [
    "# now the model transpiled to Javascript code\n",
    "code = m2c.export_to_javascript(clf)\n",
    "print(code)\n"
   ]
  },
  {
   "cell_type": "code",
   "execution_count": 12,
   "metadata": {},
   "outputs": [],
   "source": [
    "# formatting properly for Javascript UDF, returning results as per maximum likelyhood\n",
    "udf_JS ='''create function  iris_lr_javascript(lst VARCHAR(100) not\n",
    "null) return (int not null) AS LANGUAGE JAVASCRIPT SOURCE='\n",
    "function score(lst) {\n",
    "    var input = lst.split(\",\").map(function(item) {  return\n",
    "parseFloat(item); });\n",
    "    nums=[((((0.3071141523497695) + ((input[0]) * (0.45735289079282243))) + ((input[1]) * (1.563999442624823))) + ((input[2]) * (-2.4337731386698156))) + ((input[3]) * (-1.1093664333108562)), ((((1.3549694262711482) + ((input[0]) * (0.383714697433802))) + ((input[1]) * (-1.6331343435222105))) + ((input[2]) * (0.5223067330148571))) + ((input[3]) * (-1.2217422222774255)), ((((-1.5634849658960563) + ((input[0]) * (-1.9559633315117064))) + ((input[1]) * (-1.6394612788542173))) + ((input[2]) * (2.83919578446464))) + ((input[3]) * (2.777913439552842))]\n",
    "var index = 0;\n",
    "        for (var i = 0; i < nums.length; i++) {\n",
    "            index = nums[i] > nums[index] ? i : index;\n",
    "        }\n",
    "        return index+1;\n",
    "}\n",
    "return score(lst)'\n",
    "'''\n",
    "cursor.execute(udf_JS)\n",
    "conn.commit()"
   ]
  },
  {
   "cell_type": "code",
   "execution_count": 13,
   "metadata": {},
   "outputs": [
    {
     "data": {
      "text/html": [
       "<div>\n",
       "<style scoped>\n",
       "    .dataframe tbody tr th:only-of-type {\n",
       "        vertical-align: middle;\n",
       "    }\n",
       "\n",
       "    .dataframe tbody tr th {\n",
       "        vertical-align: top;\n",
       "    }\n",
       "\n",
       "    .dataframe thead th {\n",
       "        text-align: right;\n",
       "    }\n",
       "</style>\n",
       "<table border=\"1\" class=\"dataframe\">\n",
       "  <thead>\n",
       "    <tr style=\"text-align: right;\">\n",
       "      <th></th>\n",
       "      <th>s\u0000p\u0000e\u0000c</th>\n",
       "      <th>c\u0000l\u0000a\u0000s\u0000</th>\n",
       "    </tr>\n",
       "  </thead>\n",
       "  <tbody>\n",
       "    <tr>\n",
       "      <td>0</td>\n",
       "      <td>1</td>\n",
       "      <td>1</td>\n",
       "    </tr>\n",
       "    <tr>\n",
       "      <td>1</td>\n",
       "      <td>1</td>\n",
       "      <td>1</td>\n",
       "    </tr>\n",
       "    <tr>\n",
       "      <td>2</td>\n",
       "      <td>1</td>\n",
       "      <td>1</td>\n",
       "    </tr>\n",
       "    <tr>\n",
       "      <td>3</td>\n",
       "      <td>1</td>\n",
       "      <td>1</td>\n",
       "    </tr>\n",
       "    <tr>\n",
       "      <td>4</td>\n",
       "      <td>1</td>\n",
       "      <td>1</td>\n",
       "    </tr>\n",
       "  </tbody>\n",
       "</table>\n",
       "</div>"
      ],
      "text/plain": [
       "  s\u0000p\u0000e\u0000c  c\u0000l\u0000a\u0000s\u0000\n",
       "0       1         1\n",
       "1       1         1\n",
       "2       1         1\n",
       "3       1         1\n",
       "4       1         1"
      ]
     },
     "execution_count": 13,
     "metadata": {},
     "output_type": "execute_result"
    }
   ],
   "source": [
    "#Predicting with Javascript UDF\n",
    "predictJS='''select CASE \n",
    "    WHEN species='Iris-setosa' THEN '1' \n",
    "    WHEN species='Iris-versicolor' THEN '2' \n",
    "    ELSE '3' \n",
    "    END as species,iris_lr_javascript(sepallengthcm  || ',' || sepalwidthcm  || ',' || petallengthcm  || ',' || petalwidthcm ) as classify  from iris'''\n",
    "predict2=pd.read_sql(predictJS, conn)\n",
    "predict2.head()"
   ]
  },
  {
   "cell_type": "code",
   "execution_count": 14,
   "metadata": {},
   "outputs": [
    {
     "name": "stdout",
     "output_type": "stream",
     "text": [
      "{\"coef\": [[0.3895887983224221, 1.345958860267565, -2.0699763848885673, -0.9412179668992701], [0.47592820981827283, -1.573793271545845, 0.42658525769464284, -1.1356764428153145], [-1.5489225723875584, -1.1590956697735213, 2.155601761372578, 2.1869577475772353]], \"intercept\": [0.25519023562092724, 0.6863737639240429, -0.9170565873708041]}\n"
     ]
    }
   ],
   "source": [
    "#Make the JSON with intercept and coeff of the model\n",
    "import json  \n",
    "model_param = {}\n",
    "model_param['coef'] = clf.coef_.tolist() \n",
    "model_param['intercept'] =clf.intercept_.tolist()\n",
    "b = json.dumps(model_param) \n",
    "print(b)"
   ]
  },
  {
   "cell_type": "code",
   "execution_count": 15,
   "metadata": {},
   "outputs": [],
   "source": [
    "#Create JSON Data UDF and again returning results as per maximum likelihood\n",
    "\n",
    "jsonstr='''create function  iris_lr_json(lst VARCHAR(100) not null)\n",
    "return (int not null) AS LANGUAGE python SOURCE='\n",
    "import json\n",
    "def score1 (lst):\n",
    "  input = [float(i) for i in lst.split(\",\")]\n",
    "  json_data = \"{\\\\\"coef\\\\\": [[0.4156346233598447, 1.6410466066307934, \\\n",
    "-2.4486206310542746, -1.0775840518519904], [0.7334652955571552, \\\n",
    "-2.0527321763924102, 0.4049181379167901, -1.4276343377888174], \\\n",
    "[-1.8886197150361799, -1.701005052157171, 2.803528886728411, \\\n",
    "2.6749639949986195]], \\\\\"intercept\\\\\": [0.2834483510261381, \\\n",
    "1.271492823301712, -1.403879236024429]}\"\n",
    "  dictjson = json.loads(json_data)\n",
    "  # raise Exception(\"it is %s\" % str(dictjson))\n",
    "  var0=[dictjson[\"intercept\"][0]+ input[0]*dictjson[\"coef\"][0][0] + \n",
    "input[1]*dictjson[\"coef\"][0][1]+input[2]*dictjson[\"coef\"][0][2] + \n",
    "input[3]*dictjson[\"coef\"][0][3], dictjson[\"intercept\"][1]+\n",
    "input[0]*dictjson[\"coef\"][1][0] +input[1]*dictjson[\"coef\"][1][1]+\n",
    "input[2]*dictjson[\"coef\"][1][2] + input[3]*dictjson[\"coef\"][1][3],\n",
    "dictjson[\"intercept\"][2]+ input[0]*dictjson[\"coef\"][2][0] +\n",
    "input[1]*dictjson[\"coef\"][2][1]+input[2]*dictjson[\"coef\"][2][2] +\n",
    "input[3]*dictjson[\"coef\"][2][3]]\n",
    "  #print(var0)\n",
    "  index=0\n",
    "  max_val=var0[0]\n",
    "  for i in range(0,len(var0)):\n",
    "    if var0[i] > max_val:\n",
    "      index=i\n",
    "      max_val=var0[i]\n",
    "  return index+1\n",
    "return score (lst)'\n",
    "'''\n",
    "\n",
    "cursor.execute(jsonstr)\n",
    "conn.commit()\n"
   ]
  },
  {
   "cell_type": "code",
   "execution_count": 16,
   "metadata": {},
   "outputs": [
    {
     "data": {
      "text/html": [
       "<div>\n",
       "<style scoped>\n",
       "    .dataframe tbody tr th:only-of-type {\n",
       "        vertical-align: middle;\n",
       "    }\n",
       "\n",
       "    .dataframe tbody tr th {\n",
       "        vertical-align: top;\n",
       "    }\n",
       "\n",
       "    .dataframe thead th {\n",
       "        text-align: right;\n",
       "    }\n",
       "</style>\n",
       "<table border=\"1\" class=\"dataframe\">\n",
       "  <thead>\n",
       "    <tr style=\"text-align: right;\">\n",
       "      <th></th>\n",
       "      <th>s\u0000p\u0000e\u0000c</th>\n",
       "      <th>c\u0000l\u0000a\u0000s\u0000</th>\n",
       "    </tr>\n",
       "  </thead>\n",
       "  <tbody>\n",
       "    <tr>\n",
       "      <td>0</td>\n",
       "      <td>1</td>\n",
       "      <td>1</td>\n",
       "    </tr>\n",
       "    <tr>\n",
       "      <td>1</td>\n",
       "      <td>1</td>\n",
       "      <td>1</td>\n",
       "    </tr>\n",
       "    <tr>\n",
       "      <td>2</td>\n",
       "      <td>1</td>\n",
       "      <td>1</td>\n",
       "    </tr>\n",
       "    <tr>\n",
       "      <td>3</td>\n",
       "      <td>1</td>\n",
       "      <td>1</td>\n",
       "    </tr>\n",
       "    <tr>\n",
       "      <td>4</td>\n",
       "      <td>1</td>\n",
       "      <td>1</td>\n",
       "    </tr>\n",
       "  </tbody>\n",
       "</table>\n",
       "</div>"
      ],
      "text/plain": [
       "  s\u0000p\u0000e\u0000c  c\u0000l\u0000a\u0000s\u0000\n",
       "0       1         1\n",
       "1       1         1\n",
       "2       1         1\n",
       "3       1         1\n",
       "4       1         1"
      ]
     },
     "execution_count": 16,
     "metadata": {},
     "output_type": "execute_result"
    }
   ],
   "source": [
    "#Predict with JSON UDF\n",
    "predictJson='''select CASE \n",
    "    WHEN species='Iris-setosa' THEN '1' \n",
    "    WHEN species='Iris-versicolor' THEN '2' \n",
    "    ELSE '3' \n",
    "    END as species,iris_lr_javascript(sepallengthcm  || ',' || sepalwidthcm  || ',' || petallengthcm  || ',' || petalwidthcm ) as classify  from iris'''\n",
    "predict3=pd.read_sql(predictJson, conn)\n",
    "predict3.head()"
   ]
  }
 ],
 "metadata": {
  "kernelspec": {
   "display_name": "Python 3",
   "language": "python",
   "name": "python3"
  },
  "language_info": {
   "codemirror_mode": {
    "name": "ipython",
    "version": 3
   },
   "file_extension": ".py",
   "mimetype": "text/x-python",
   "name": "python",
   "nbconvert_exporter": "python",
   "pygments_lexer": "ipython3",
   "version": "3.7.4"
  }
 },
 "nbformat": 4,
 "nbformat_minor": 2
}
